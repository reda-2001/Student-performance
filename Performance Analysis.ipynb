{
 "cells": [
  {
   "cell_type": "code",
   "execution_count": 1,
   "id": "f41e5fef",
   "metadata": {},
   "outputs": [],
   "source": [
    "import pandas as pd\n",
    "import numpy as np\n",
    "import matplotlib.pyplot as plt\n",
    "import seaborn as sns\n",
    "import scipy.stats as stats"
   ]
  },
  {
   "cell_type": "code",
   "execution_count": 2,
   "id": "58ba5f00",
   "metadata": {},
   "outputs": [],
   "source": [
    "df = pd.read_csv('StudentsPerformance.csv')"
   ]
  },
  {
   "cell_type": "code",
   "execution_count": 3,
   "id": "162ff61b",
   "metadata": {},
   "outputs": [
    {
     "data": {
      "text/html": [
       "<div>\n",
       "<style scoped>\n",
       "    .dataframe tbody tr th:only-of-type {\n",
       "        vertical-align: middle;\n",
       "    }\n",
       "\n",
       "    .dataframe tbody tr th {\n",
       "        vertical-align: top;\n",
       "    }\n",
       "\n",
       "    .dataframe thead th {\n",
       "        text-align: right;\n",
       "    }\n",
       "</style>\n",
       "<table border=\"1\" class=\"dataframe\">\n",
       "  <thead>\n",
       "    <tr style=\"text-align: right;\">\n",
       "      <th></th>\n",
       "      <th>gender</th>\n",
       "      <th>race/ethnicity</th>\n",
       "      <th>parental level of education</th>\n",
       "      <th>lunch</th>\n",
       "      <th>test preparation course</th>\n",
       "      <th>math score</th>\n",
       "      <th>reading score</th>\n",
       "      <th>writing score</th>\n",
       "    </tr>\n",
       "  </thead>\n",
       "  <tbody>\n",
       "    <tr>\n",
       "      <th>0</th>\n",
       "      <td>female</td>\n",
       "      <td>group B</td>\n",
       "      <td>bachelor's degree</td>\n",
       "      <td>standard</td>\n",
       "      <td>none</td>\n",
       "      <td>72</td>\n",
       "      <td>72</td>\n",
       "      <td>74</td>\n",
       "    </tr>\n",
       "    <tr>\n",
       "      <th>1</th>\n",
       "      <td>female</td>\n",
       "      <td>group C</td>\n",
       "      <td>some college</td>\n",
       "      <td>standard</td>\n",
       "      <td>completed</td>\n",
       "      <td>69</td>\n",
       "      <td>90</td>\n",
       "      <td>88</td>\n",
       "    </tr>\n",
       "    <tr>\n",
       "      <th>2</th>\n",
       "      <td>female</td>\n",
       "      <td>group B</td>\n",
       "      <td>master's degree</td>\n",
       "      <td>standard</td>\n",
       "      <td>none</td>\n",
       "      <td>90</td>\n",
       "      <td>95</td>\n",
       "      <td>93</td>\n",
       "    </tr>\n",
       "    <tr>\n",
       "      <th>3</th>\n",
       "      <td>male</td>\n",
       "      <td>group A</td>\n",
       "      <td>associate's degree</td>\n",
       "      <td>free/reduced</td>\n",
       "      <td>none</td>\n",
       "      <td>47</td>\n",
       "      <td>57</td>\n",
       "      <td>44</td>\n",
       "    </tr>\n",
       "    <tr>\n",
       "      <th>4</th>\n",
       "      <td>male</td>\n",
       "      <td>group C</td>\n",
       "      <td>some college</td>\n",
       "      <td>standard</td>\n",
       "      <td>none</td>\n",
       "      <td>76</td>\n",
       "      <td>78</td>\n",
       "      <td>75</td>\n",
       "    </tr>\n",
       "  </tbody>\n",
       "</table>\n",
       "</div>"
      ],
      "text/plain": [
       "   gender race/ethnicity parental level of education         lunch  \\\n",
       "0  female        group B           bachelor's degree      standard   \n",
       "1  female        group C                some college      standard   \n",
       "2  female        group B             master's degree      standard   \n",
       "3    male        group A          associate's degree  free/reduced   \n",
       "4    male        group C                some college      standard   \n",
       "\n",
       "  test preparation course  math score  reading score  writing score  \n",
       "0                    none          72             72             74  \n",
       "1               completed          69             90             88  \n",
       "2                    none          90             95             93  \n",
       "3                    none          47             57             44  \n",
       "4                    none          76             78             75  "
      ]
     },
     "execution_count": 3,
     "metadata": {},
     "output_type": "execute_result"
    }
   ],
   "source": [
    "df.head()"
   ]
  },
  {
   "cell_type": "code",
   "execution_count": 4,
   "id": "bf1454c0",
   "metadata": {},
   "outputs": [
    {
     "data": {
      "text/html": [
       "<div>\n",
       "<style scoped>\n",
       "    .dataframe tbody tr th:only-of-type {\n",
       "        vertical-align: middle;\n",
       "    }\n",
       "\n",
       "    .dataframe tbody tr th {\n",
       "        vertical-align: top;\n",
       "    }\n",
       "\n",
       "    .dataframe thead th {\n",
       "        text-align: right;\n",
       "    }\n",
       "</style>\n",
       "<table border=\"1\" class=\"dataframe\">\n",
       "  <thead>\n",
       "    <tr style=\"text-align: right;\">\n",
       "      <th></th>\n",
       "      <th>gender</th>\n",
       "      <th>race/ethnicity</th>\n",
       "      <th>parental level of education</th>\n",
       "      <th>lunch</th>\n",
       "      <th>test preparation course</th>\n",
       "      <th>math score</th>\n",
       "      <th>reading score</th>\n",
       "      <th>writing score</th>\n",
       "    </tr>\n",
       "  </thead>\n",
       "  <tbody>\n",
       "    <tr>\n",
       "      <th>875</th>\n",
       "      <td>male</td>\n",
       "      <td>group C</td>\n",
       "      <td>some college</td>\n",
       "      <td>free/reduced</td>\n",
       "      <td>none</td>\n",
       "      <td>80</td>\n",
       "      <td>64</td>\n",
       "      <td>66</td>\n",
       "    </tr>\n",
       "    <tr>\n",
       "      <th>298</th>\n",
       "      <td>male</td>\n",
       "      <td>group C</td>\n",
       "      <td>high school</td>\n",
       "      <td>free/reduced</td>\n",
       "      <td>completed</td>\n",
       "      <td>40</td>\n",
       "      <td>46</td>\n",
       "      <td>50</td>\n",
       "    </tr>\n",
       "    <tr>\n",
       "      <th>172</th>\n",
       "      <td>female</td>\n",
       "      <td>group D</td>\n",
       "      <td>some college</td>\n",
       "      <td>standard</td>\n",
       "      <td>none</td>\n",
       "      <td>79</td>\n",
       "      <td>86</td>\n",
       "      <td>81</td>\n",
       "    </tr>\n",
       "    <tr>\n",
       "      <th>176</th>\n",
       "      <td>female</td>\n",
       "      <td>group B</td>\n",
       "      <td>high school</td>\n",
       "      <td>free/reduced</td>\n",
       "      <td>completed</td>\n",
       "      <td>46</td>\n",
       "      <td>54</td>\n",
       "      <td>58</td>\n",
       "    </tr>\n",
       "    <tr>\n",
       "      <th>388</th>\n",
       "      <td>female</td>\n",
       "      <td>group D</td>\n",
       "      <td>high school</td>\n",
       "      <td>standard</td>\n",
       "      <td>none</td>\n",
       "      <td>62</td>\n",
       "      <td>64</td>\n",
       "      <td>64</td>\n",
       "    </tr>\n",
       "  </tbody>\n",
       "</table>\n",
       "</div>"
      ],
      "text/plain": [
       "     gender race/ethnicity parental level of education         lunch  \\\n",
       "875    male        group C                some college  free/reduced   \n",
       "298    male        group C                 high school  free/reduced   \n",
       "172  female        group D                some college      standard   \n",
       "176  female        group B                 high school  free/reduced   \n",
       "388  female        group D                 high school      standard   \n",
       "\n",
       "    test preparation course  math score  reading score  writing score  \n",
       "875                    none          80             64             66  \n",
       "298               completed          40             46             50  \n",
       "172                    none          79             86             81  \n",
       "176               completed          46             54             58  \n",
       "388                    none          62             64             64  "
      ]
     },
     "execution_count": 4,
     "metadata": {},
     "output_type": "execute_result"
    }
   ],
   "source": [
    "df.sample(5)"
   ]
  },
  {
   "cell_type": "code",
   "execution_count": 5,
   "id": "142c9761",
   "metadata": {},
   "outputs": [
    {
     "name": "stdout",
     "output_type": "stream",
     "text": [
      "<class 'pandas.core.frame.DataFrame'>\n",
      "RangeIndex: 1000 entries, 0 to 999\n",
      "Data columns (total 8 columns):\n",
      " #   Column                       Non-Null Count  Dtype \n",
      "---  ------                       --------------  ----- \n",
      " 0   gender                       1000 non-null   object\n",
      " 1   race/ethnicity               1000 non-null   object\n",
      " 2   parental level of education  1000 non-null   object\n",
      " 3   lunch                        1000 non-null   object\n",
      " 4   test preparation course      1000 non-null   object\n",
      " 5   math score                   1000 non-null   int64 \n",
      " 6   reading score                1000 non-null   int64 \n",
      " 7   writing score                1000 non-null   int64 \n",
      "dtypes: int64(3), object(5)\n",
      "memory usage: 62.6+ KB\n"
     ]
    }
   ],
   "source": [
    "df.info()"
   ]
  },
  {
   "cell_type": "code",
   "execution_count": 6,
   "id": "a70eb08e",
   "metadata": {},
   "outputs": [
    {
     "data": {
      "text/html": [
       "<div>\n",
       "<style scoped>\n",
       "    .dataframe tbody tr th:only-of-type {\n",
       "        vertical-align: middle;\n",
       "    }\n",
       "\n",
       "    .dataframe tbody tr th {\n",
       "        vertical-align: top;\n",
       "    }\n",
       "\n",
       "    .dataframe thead th {\n",
       "        text-align: right;\n",
       "    }\n",
       "</style>\n",
       "<table border=\"1\" class=\"dataframe\">\n",
       "  <thead>\n",
       "    <tr style=\"text-align: right;\">\n",
       "      <th></th>\n",
       "      <th>math score</th>\n",
       "      <th>reading score</th>\n",
       "      <th>writing score</th>\n",
       "    </tr>\n",
       "  </thead>\n",
       "  <tbody>\n",
       "    <tr>\n",
       "      <th>count</th>\n",
       "      <td>1000.00000</td>\n",
       "      <td>1000.000000</td>\n",
       "      <td>1000.000000</td>\n",
       "    </tr>\n",
       "    <tr>\n",
       "      <th>mean</th>\n",
       "      <td>66.08900</td>\n",
       "      <td>69.169000</td>\n",
       "      <td>68.054000</td>\n",
       "    </tr>\n",
       "    <tr>\n",
       "      <th>std</th>\n",
       "      <td>15.16308</td>\n",
       "      <td>14.600192</td>\n",
       "      <td>15.195657</td>\n",
       "    </tr>\n",
       "    <tr>\n",
       "      <th>min</th>\n",
       "      <td>0.00000</td>\n",
       "      <td>17.000000</td>\n",
       "      <td>10.000000</td>\n",
       "    </tr>\n",
       "    <tr>\n",
       "      <th>25%</th>\n",
       "      <td>57.00000</td>\n",
       "      <td>59.000000</td>\n",
       "      <td>57.750000</td>\n",
       "    </tr>\n",
       "    <tr>\n",
       "      <th>50%</th>\n",
       "      <td>66.00000</td>\n",
       "      <td>70.000000</td>\n",
       "      <td>69.000000</td>\n",
       "    </tr>\n",
       "    <tr>\n",
       "      <th>75%</th>\n",
       "      <td>77.00000</td>\n",
       "      <td>79.000000</td>\n",
       "      <td>79.000000</td>\n",
       "    </tr>\n",
       "    <tr>\n",
       "      <th>max</th>\n",
       "      <td>100.00000</td>\n",
       "      <td>100.000000</td>\n",
       "      <td>100.000000</td>\n",
       "    </tr>\n",
       "  </tbody>\n",
       "</table>\n",
       "</div>"
      ],
      "text/plain": [
       "       math score  reading score  writing score\n",
       "count  1000.00000    1000.000000    1000.000000\n",
       "mean     66.08900      69.169000      68.054000\n",
       "std      15.16308      14.600192      15.195657\n",
       "min       0.00000      17.000000      10.000000\n",
       "25%      57.00000      59.000000      57.750000\n",
       "50%      66.00000      70.000000      69.000000\n",
       "75%      77.00000      79.000000      79.000000\n",
       "max     100.00000     100.000000     100.000000"
      ]
     },
     "execution_count": 6,
     "metadata": {},
     "output_type": "execute_result"
    }
   ],
   "source": [
    "df.describe()"
   ]
  },
  {
   "cell_type": "code",
   "execution_count": 7,
   "id": "c0766637",
   "metadata": {},
   "outputs": [
    {
     "data": {
      "text/plain": [
       "gender                         0\n",
       "race/ethnicity                 0\n",
       "parental level of education    0\n",
       "lunch                          0\n",
       "test preparation course        0\n",
       "math score                     0\n",
       "reading score                  0\n",
       "writing score                  0\n",
       "dtype: int64"
      ]
     },
     "execution_count": 7,
     "metadata": {},
     "output_type": "execute_result"
    }
   ],
   "source": [
    "df.isnull().sum()"
   ]
  },
  {
   "cell_type": "code",
   "execution_count": 8,
   "id": "707491b4",
   "metadata": {},
   "outputs": [
    {
     "data": {
      "text/plain": [
       "some college          226\n",
       "associate's degree    222\n",
       "high school           196\n",
       "some high school      179\n",
       "bachelor's degree     118\n",
       "master's degree        59\n",
       "Name: parental level of education, dtype: int64"
      ]
     },
     "execution_count": 8,
     "metadata": {},
     "output_type": "execute_result"
    }
   ],
   "source": [
    "df['parental level of education'].value_counts()"
   ]
  },
  {
   "cell_type": "code",
   "execution_count": 9,
   "id": "7caf53be",
   "metadata": {},
   "outputs": [
    {
     "data": {
      "text/plain": [
       "standard        645\n",
       "free/reduced    355\n",
       "Name: lunch, dtype: int64"
      ]
     },
     "execution_count": 9,
     "metadata": {},
     "output_type": "execute_result"
    }
   ],
   "source": [
    "df['lunch'].value_counts()"
   ]
  },
  {
   "cell_type": "code",
   "execution_count": 10,
   "id": "2e7a7d80",
   "metadata": {},
   "outputs": [
    {
     "data": {
      "text/plain": [
       "none         642\n",
       "completed    358\n",
       "Name: test preparation course, dtype: int64"
      ]
     },
     "execution_count": 10,
     "metadata": {},
     "output_type": "execute_result"
    }
   ],
   "source": [
    "df['test preparation course'].value_counts()"
   ]
  },
  {
   "cell_type": "code",
   "execution_count": 11,
   "id": "92caf69c",
   "metadata": {},
   "outputs": [
    {
     "data": {
      "text/plain": [
       "group C    319\n",
       "group D    262\n",
       "group B    190\n",
       "group E    140\n",
       "group A     89\n",
       "Name: race/ethnicity, dtype: int64"
      ]
     },
     "execution_count": 11,
     "metadata": {},
     "output_type": "execute_result"
    }
   ],
   "source": [
    "df['race/ethnicity'].value_counts()"
   ]
  },
  {
   "cell_type": "code",
   "execution_count": 12,
   "id": "1fdec640",
   "metadata": {},
   "outputs": [
    {
     "data": {
      "text/plain": [
       "0"
      ]
     },
     "execution_count": 12,
     "metadata": {},
     "output_type": "execute_result"
    }
   ],
   "source": [
    "df.duplicated().sum()"
   ]
  },
  {
   "cell_type": "code",
   "execution_count": 13,
   "id": "30aaa712",
   "metadata": {},
   "outputs": [
    {
     "data": {
      "image/png": "[encoded data removed]",
      "text/plain": [
       "<Figure size 936x360 with 1 Axes>"
      ]
     },
     "metadata": {
      "needs_background": "light"
     },
     "output_type": "display_data"
    }
   ],
   "source": [
    "plt.figure(figsize=(13,5))\n",
    "sns.histplot(df['math score'],bins='auto',kde=True)\n",
    "plt.figtext(0.92,0.63,df.describe()['math score'].to_string())\n",
    "hist , bin_edges = np.histogram(df['math score'],bins='auto')\n"
   ]
  },
  {
   "cell_type": "code",
   "execution_count": 14,
   "id": "7149ce66",
   "metadata": {},
   "outputs": [
    {
     "name": "stdout",
     "output_type": "stream",
     "text": [
      "the mode is : 65\n"
     ]
    }
   ],
   "source": [
    "import statistics as stat \n",
    "print(f\"the mode is : {stat.mode(df['math score'])}\")"
   ]
  },
  {
   "cell_type": "markdown",
   "id": "8637a81c",
   "metadata": {},
   "source": [
    "<b>Organize the edges and frequencies of bins in a table</b>"
   ]
  },
  {
   "cell_type": "code",
   "execution_count": 15,
   "id": "d74032c2",
   "metadata": {},
   "outputs": [
    {
     "data": {
      "text/html": [
       "<table style=\"border:1px solid black;border-color: blue;width:80%;text-align:center\"><tr><th style=\"text-align:center\">Bin</th><th style=\"text-align:center\">Range</th><th style=\"text-align:center\">Frequency</th></tr><tr><td style=\"text-align:center\">0</td><td style=\"text-align:center\">]0.00 , 4.00]</td><td style=\"text-align:center\">1</td></tr><tr><td style=\"text-align:center\">1</td><td style=\"text-align:center\">]4.00 , 8.00]</td><td style=\"text-align:center\">0</td></tr><tr><td style=\"text-align:center\">2</td><td style=\"text-align:center\">]8.00 , 12.00]</td><td style=\"text-align:center\">1</td></tr><tr><td style=\"text-align:center\">3</td><td style=\"text-align:center\">]12.00 , 16.00]</td><td style=\"text-align:center\">0</td></tr><tr><td style=\"text-align:center\">4</td><td style=\"text-align:center\">]16.00 , 20.00]</td><td style=\"text-align:center\">2</td></tr><tr><td style=\"text-align:center\">5</td><td style=\"text-align:center\">]20.00 , 24.00]</td><td style=\"text-align:center\">2</td></tr><tr><td style=\"text-align:center\">6</td><td style=\"text-align:center\">]24.00 , 28.00]</td><td style=\"text-align:center\">4</td></tr><tr><td style=\"text-align:center\">7</td><td style=\"text-align:center\">]28.00 , 32.00]</td><td style=\"text-align:center\">6</td></tr><tr><td style=\"text-align:center\">8</td><td style=\"text-align:center\">]32.00 , 36.00]</td><td style=\"text-align:center\">11</td></tr><tr><td style=\"text-align:center\">9</td><td style=\"text-align:center\">]36.00 , 40.00]</td><td style=\"text-align:center\">13</td></tr><tr><td style=\"text-align:center\">10</td><td style=\"text-align:center\">]40.00 , 44.00]</td><td style=\"text-align:center\">27</td></tr><tr><td style=\"text-align:center\">11</td><td style=\"text-align:center\">]44.00 , 48.00]</td><td style=\"text-align:center\">40</td></tr><tr><td style=\"text-align:center\">12</td><td style=\"text-align:center\">]48.00 , 52.00]</td><td style=\"text-align:center\">54</td></tr><tr><td style=\"text-align:center\">13</td><td style=\"text-align:center\">]52.00 , 56.00]</td><td style=\"text-align:center\">78</td></tr><tr><td style=\"text-align:center\">14</td><td style=\"text-align:center\">]56.00 , 60.00]</td><td style=\"text-align:center\">84</td></tr><tr><td style=\"text-align:center\">15</td><td style=\"text-align:center\">]60.00 , 64.00]</td><td style=\"text-align:center\">104</td></tr><tr><td style=\"text-align:center\">16</td><td style=\"text-align:center\">]64.00 , 68.00]</td><td style=\"text-align:center\">106</td></tr><tr><td style=\"text-align:center\">17</td><td style=\"text-align:center\">]68.00 , 72.00]</td><td style=\"text-align:center\">102</td></tr><tr><td style=\"text-align:center\">18</td><td style=\"text-align:center\">]72.00 , 76.00]</td><td style=\"text-align:center\">91</td></tr><tr><td style=\"text-align:center\">19</td><td style=\"text-align:center\">]76.00 , 80.00]</td><td style=\"text-align:center\">81</td></tr><tr><td style=\"text-align:center\">20</td><td style=\"text-align:center\">]80.00 , 84.00]</td><td style=\"text-align:center\">65</td></tr><tr><td style=\"text-align:center\">21</td><td style=\"text-align:center\">]84.00 , 88.00]</td><td style=\"text-align:center\">49</td></tr><tr><td style=\"text-align:center\">22</td><td style=\"text-align:center\">]88.00 , 92.00]</td><td style=\"text-align:center\">38</td></tr><tr><td style=\"text-align:center\">23</td><td style=\"text-align:center\">]92.00 , 96.00]</td><td style=\"text-align:center\">19</td></tr><tr><td style=\"text-align:center\">24</td><td style=\"text-align:center\">]96.00 , 100.00]</td><td style=\"text-align:center\">22</td></tr></table>"
      ],
      "text/plain": [
       "<IPython.core.display.HTML object>"
      ]
     },
     "execution_count": 15,
     "metadata": {},
     "output_type": "execute_result"
    }
   ],
   "source": [
    "from IPython.core.display import HTML\n",
    "table = f'<table style=\"border:1px solid black;border-color: blue;width:80%;text-align:center\"><tr><th style=\"text-align:center\">Bin</th><th style=\"text-align:center\">Range</th><th style=\"text-align:center\">Frequency</th></tr>'\n",
    "for i in range(len(hist)):\n",
    "    table += f'<tr><td style=\"text-align:center\">{i}</td><td style=\"text-align:center\">]{bin_edges[i]:.2f} , {bin_edges[i+1]:.2f}]</td><td style=\"text-align:center\">{hist[i]}</td></tr>'\n",
    "table += f'</table>'\n",
    "HTML(table)"
   ]
  },
  {
   "cell_type": "markdown",
   "id": "9afd4bf0",
   "metadata": {},
   "source": [
    "<h2 style=\"color :red\">THE CHI SQUARED GODNESS OF FIT TEST</h2>"
   ]
  },
  {
   "cell_type": "markdown",
   "id": "f51496e2",
   "metadata": {},
   "source": [
    "The chi-squared goodness-of-fit test is a statistical test that compares the observed data to a theoretical distribution and tests the null hypothesis that the data follow the theoretical distribution.The chi-squared goodness-of-fit test is based on the assumption that the data are independent and randomly distributed according to the specified theoretical distribution.  Here are the general steps for performing a chi-squared goodness-of-fit test:\n",
    "<ol>\n",
    "\n",
    "<li>Choose a theoretical distribution: The first step is to choose a theoretical distribution that you want to test against the data. In this case, you would choose a full normal distribution as the theoretical distribution.</li>\n",
    "\n",
    "<li>Specify the null hypothesis: The null hypothesis for a chi-squared goodness-of-fit test is that the observed data follow the theoretical distribution. In this case, the null hypothesis would be that the observed data follow a full normal distribution.</li>\n",
    "\n",
    "<li>Bin the data: The next step is to bin the data into a set of intervals or categories. This involves dividing the range of the data into a set of discrete bins and counting the number of observations that fall into each bin.</li>\n",
    "\n",
    "<li>Calculate the expected frequencies: The expected frequencies are the number of observations that you would expect to fall into each bin if the null hypothesis were true. To calculate the expected frequencies, you need to know the probability density function of the theoretical distribution and the size of each bin.</li>\n",
    "\n",
    "<li>Calculate the chi-squared statistic: The chi-squared statistic is a measure of how well the observed data fit the theoretical distribution. It is calculated as the sum of the squared differences between the observed and expected frequencies, divided by the expected frequencies.</li>\n",
    "\n",
    "<li>Determine the p-value: The p-value is the probability of observing a chi-squared statistic as extreme or more extreme than the one calculated from the data, assuming that the null hypothesis is true. The p-value is calculated using the chi-squared distribution and the degrees of freedom, which is the number of bins minus one. A small p-value (typically less than 0.05) suggests that the null hypothesis is not likely to be true and that the observed data do not follow the theoretical distribution.</li>\n",
    "\n",
    "<li>Make a conclusion</li>\n",
    "    \n",
    "</ol>"
   ]
  },
  {
   "cell_type": "markdown",
   "id": "81eaabac",
   "metadata": {},
   "source": [
    "<b><ul>\n",
    "    <li>\n",
    "        H0 : the observed data follow a normal distribution\n",
    "    </li>\n",
    "    <li>\n",
    "        H1 : the observed data doesn't follow a normal distribution\n",
    "    </li>\n",
    "</ul></b>"
   ]
  },
  {
   "cell_type": "code",
   "execution_count": 16,
   "id": "994d8578",
   "metadata": {},
   "outputs": [],
   "source": [
    "#Importing the class that I created to perform the Chi-squared goodness-of-fit test.\n",
    "import chi_squared_godness_of_fit_test as dist"
   ]
  },
  {
   "cell_type": "code",
   "execution_count": 17,
   "id": "319310a2",
   "metadata": {},
   "outputs": [],
   "source": [
    "#Creating an object\n",
    "chi_squared_godness_of_fit_test = dist.chi_squared_godness_of_fit_test(df['math score'])"
   ]
  },
  {
   "cell_type": "code",
   "execution_count": 18,
   "id": "4b81d165",
   "metadata": {},
   "outputs": [],
   "source": [
    "#bins information\n",
    "bin_info = chi_squared_godness_of_fit_test.bin_information()"
   ]
  },
  {
   "cell_type": "code",
   "execution_count": 19,
   "id": "52167689",
   "metadata": {},
   "outputs": [
    {
     "data": {
      "text/plain": [
       "array([  0.,   4.,   8.,  12.,  16.,  20.,  24.,  28.,  32.,  36.,  40.,\n",
       "        44.,  48.,  52.,  56.,  60.,  64.,  68.,  72.,  76.,  80.,  84.,\n",
       "        88.,  92.,  96., 100.])"
      ]
     },
     "execution_count": 19,
     "metadata": {},
     "output_type": "execute_result"
    }
   ],
   "source": [
    "#Retrieving frequencies\n",
    "bins_count = bin_info[1]\n",
    "bins_count"
   ]
  },
  {
   "cell_type": "code",
   "execution_count": 20,
   "id": "fed7a267",
   "metadata": {},
   "outputs": [
    {
     "data": {
      "text/plain": [
       "array([  0.,   4.,   8.,  12.,  16.,  20.,  24.,  28.,  32.,  36.,  40.,\n",
       "        44.,  48.,  52.,  56.,  60.,  64.,  68.,  72.,  76.,  80.,  84.,\n",
       "        88.,  92.,  96., 100.])"
      ]
     },
     "execution_count": 20,
     "metadata": {},
     "output_type": "execute_result"
    }
   ],
   "source": [
    "#Retrieving bin edges\n",
    "bins_range = bin_info[1]\n",
    "bins_range"
   ]
  },
  {
   "cell_type": "code",
   "execution_count": 21,
   "id": "6bf336fd",
   "metadata": {},
   "outputs": [
    {
     "name": "stdout",
     "output_type": "stream",
     "text": [
      "the mean is 66.544\n"
     ]
    }
   ],
   "source": [
    "#Calculating the mean\n",
    "mean = chi_squared_godness_of_fit_test.mean()\n",
    "print('the mean is %.3f'%mean)"
   ]
  },
  {
   "cell_type": "code",
   "execution_count": 22,
   "id": "22b12635",
   "metadata": {},
   "outputs": [
    {
     "name": "stdout",
     "output_type": "stream",
     "text": [
      "the mean is 15.152\n"
     ]
    }
   ],
   "source": [
    "#Calculating the standard deviation\n",
    "std = chi_squared_godness_of_fit_test.std()\n",
    "print('the mean is %.3f'%std)"
   ]
  },
  {
   "cell_type": "code",
   "execution_count": 23,
   "id": "84b44ffe",
   "metadata": {},
   "outputs": [
    {
     "data": {
      "text/plain": [
       "[4.0,\n",
       " 8.0,\n",
       " 12.0,\n",
       " 16.0,\n",
       " 20.0,\n",
       " 24.0,\n",
       " 28.0,\n",
       " 32.0,\n",
       " 36.0,\n",
       " 40.0,\n",
       " 44.0,\n",
       " 48.0,\n",
       " 52.0,\n",
       " 56.0,\n",
       " 60.0,\n",
       " 64.0,\n",
       " 68.0,\n",
       " 72.0,\n",
       " 76.0,\n",
       " 80.0,\n",
       " 84.0,\n",
       " 88.0,\n",
       " 92.0,\n",
       " 96.0]"
      ]
     },
     "execution_count": 23,
     "metadata": {},
     "output_type": "execute_result"
    }
   ],
   "source": [
    "values = chi_squared_godness_of_fit_test.values()\n",
    "values"
   ]
  },
  {
   "cell_type": "code",
   "execution_count": 24,
   "id": "9c53c814",
   "metadata": {},
   "outputs": [
    {
     "data": {
      "text/plain": [
       "array([-4.12764105, -3.86365787, -3.59967468, -3.3356915 , -3.07170832,\n",
       "       -2.80772513, -2.54374195, -2.27975877, -2.01577558, -1.7517924 ,\n",
       "       -1.48780922, -1.22382604, -0.95984285, -0.69585967, -0.43187649,\n",
       "       -0.1678933 ,  0.09608988,  0.36007306,  0.62405624,  0.88803943,\n",
       "        1.15202261,  1.41600579,  1.67998898,  1.94397216])"
      ]
     },
     "execution_count": 24,
     "metadata": {},
     "output_type": "execute_result"
    }
   ],
   "source": [
    "#Calculating z-scores\n",
    "z_scores = chi_squared_godness_of_fit_test.z_scores(values)\n",
    "z_scores"
   ]
  },
  {
   "cell_type": "code",
   "execution_count": 25,
   "id": "e49cbd76",
   "metadata": {},
   "outputs": [
    {
     "name": "stdout",
     "output_type": "stream",
     "text": [
      "the probability that a value will fall within each bin if the null is true : \n"
     ]
    },
    {
     "data": {
      "text/plain": [
       "[1.8325181349931215e-05,\n",
       " 3.752564200380547e-05,\n",
       " 0.00010345694583399417,\n",
       " 0.0002661298739919687,\n",
       " 0.0006387503232930696,\n",
       " 0.0014304516244381062,\n",
       " 0.00298896405291758,\n",
       " 0.005827396202797962,\n",
       " 0.010600724003966912,\n",
       " 0.017993031744189713,\n",
       " 0.02849585127411483,\n",
       " 0.04210832327952874,\n",
       " 0.05805822541836059,\n",
       " 0.07469120249389172,\n",
       " 0.08965723426967304,\n",
       " 0.10041801652844012,\n",
       " 0.10494179622797145,\n",
       " 0.10232834624927489,\n",
       " 0.09310092457007368,\n",
       " 0.07903555245220062,\n",
       " 0.06260388049517396,\n",
       " 0.04626898699825388,\n",
       " 0.03190717385284825,\n",
       " 0.02053032603495486,\n",
       " 0.025949404260456332]"
      ]
     },
     "execution_count": 25,
     "metadata": {},
     "output_type": "execute_result"
    }
   ],
   "source": [
    "#Calculating probabilities of the corresponding z-scores\n",
    "probability = chi_squared_godness_of_fit_test.probability(z_scores)\n",
    "print('the probability that a value will fall within each bin if the null is true : ')\n",
    "probability"
   ]
  },
  {
   "cell_type": "code",
   "execution_count": 26,
   "id": "b421b023",
   "metadata": {},
   "outputs": [
    {
     "name": "stdout",
     "output_type": "stream",
     "text": [
      "expected frequencies : \n"
     ]
    },
    {
     "data": {
      "text/plain": [
       "[0.018325181349931215,\n",
       " 0.03752564200380547,\n",
       " 0.10345694583399417,\n",
       " 0.2661298739919687,\n",
       " 0.6387503232930696,\n",
       " 1.4304516244381063,\n",
       " 2.98896405291758,\n",
       " 5.827396202797962,\n",
       " 10.600724003966912,\n",
       " 17.993031744189715,\n",
       " 28.49585127411483,\n",
       " 42.10832327952873,\n",
       " 58.058225418360585,\n",
       " 74.69120249389172,\n",
       " 89.65723426967304,\n",
       " 100.41801652844012,\n",
       " 104.94179622797145,\n",
       " 102.32834624927489,\n",
       " 93.10092457007369,\n",
       " 79.03555245220062,\n",
       " 62.60388049517396,\n",
       " 46.26898699825388,\n",
       " 31.907173852848246,\n",
       " 20.53032603495486,\n",
       " 25.949404260456333]"
      ]
     },
     "execution_count": 26,
     "metadata": {},
     "output_type": "execute_result"
    }
   ],
   "source": [
    "#Calculating the expected frequencies\n",
    "expected_frequencies = chi_squared_godness_of_fit_test.expected_frequencies(probability)\n",
    "print('expected frequencies : ')\n",
    "expected_frequencies"
   ]
  },
  {
   "cell_type": "code",
   "execution_count": 27,
   "id": "3ccb1989",
   "metadata": {},
   "outputs": [
    {
     "data": {
      "text/html": [
       "<table style=\"border:1px solid black;border-color: blue;width:80%;text-align:center\"><tr><th style=\"text-align:center\">Bin</th><th style=\"text-align:center\">Range</th><th style=\"text-align:center\">Frequency</th><th style=\"text-align:center\">Epected Frequency</th></tr><tr><td style=\"text-align:center\">0</td><td style=\"text-align:center\">]0.00 , 4.00]</td><td style=\"text-align:center\">1</td><td style=\"text-align:center\">0.01833</td></tr><tr><td style=\"text-align:center\">1</td><td style=\"text-align:center\">]4.00 , 8.00]</td><td style=\"text-align:center\">0</td><td style=\"text-align:center\">0.03753</td></tr><tr><td style=\"text-align:center\">2</td><td style=\"text-align:center\">]8.00 , 12.00]</td><td style=\"text-align:center\">1</td><td style=\"text-align:center\">0.10346</td></tr><tr><td style=\"text-align:center\">3</td><td style=\"text-align:center\">]12.00 , 16.00]</td><td style=\"text-align:center\">0</td><td style=\"text-align:center\">0.26613</td></tr><tr><td style=\"text-align:center\">4</td><td style=\"text-align:center\">]16.00 , 20.00]</td><td style=\"text-align:center\">2</td><td style=\"text-align:center\">0.63875</td></tr><tr><td style=\"text-align:center\">5</td><td style=\"text-align:center\">]20.00 , 24.00]</td><td style=\"text-align:center\">2</td><td style=\"text-align:center\">1.43045</td></tr><tr><td style=\"text-align:center\">6</td><td style=\"text-align:center\">]24.00 , 28.00]</td><td style=\"text-align:center\">4</td><td style=\"text-align:center\">2.98896</td></tr><tr><td style=\"text-align:center\">7</td><td style=\"text-align:center\">]28.00 , 32.00]</td><td style=\"text-align:center\">6</td><td style=\"text-align:center\">5.82740</td></tr><tr><td style=\"text-align:center\">8</td><td style=\"text-align:center\">]32.00 , 36.00]</td><td style=\"text-align:center\">11</td><td style=\"text-align:center\">10.60072</td></tr><tr><td style=\"text-align:center\">9</td><td style=\"text-align:center\">]36.00 , 40.00]</td><td style=\"text-align:center\">13</td><td style=\"text-align:center\">17.99303</td></tr><tr><td style=\"text-align:center\">10</td><td style=\"text-align:center\">]40.00 , 44.00]</td><td style=\"text-align:center\">27</td><td style=\"text-align:center\">28.49585</td></tr><tr><td style=\"text-align:center\">11</td><td style=\"text-align:center\">]44.00 , 48.00]</td><td style=\"text-align:center\">40</td><td style=\"text-align:center\">42.10832</td></tr><tr><td style=\"text-align:center\">12</td><td style=\"text-align:center\">]48.00 , 52.00]</td><td style=\"text-align:center\">54</td><td style=\"text-align:center\">58.05823</td></tr><tr><td style=\"text-align:center\">13</td><td style=\"text-align:center\">]52.00 , 56.00]</td><td style=\"text-align:center\">78</td><td style=\"text-align:center\">74.69120</td></tr><tr><td style=\"text-align:center\">14</td><td style=\"text-align:center\">]56.00 , 60.00]</td><td style=\"text-align:center\">84</td><td style=\"text-align:center\">89.65723</td></tr><tr><td style=\"text-align:center\">15</td><td style=\"text-align:center\">]60.00 , 64.00]</td><td style=\"text-align:center\">104</td><td style=\"text-align:center\">100.41802</td></tr><tr><td style=\"text-align:center\">16</td><td style=\"text-align:center\">]64.00 , 68.00]</td><td style=\"text-align:center\">106</td><td style=\"text-align:center\">104.94180</td></tr><tr><td style=\"text-align:center\">17</td><td style=\"text-align:center\">]68.00 , 72.00]</td><td style=\"text-align:center\">102</td><td style=\"text-align:center\">102.32835</td></tr><tr><td style=\"text-align:center\">18</td><td style=\"text-align:center\">]72.00 , 76.00]</td><td style=\"text-align:center\">91</td><td style=\"text-align:center\">93.10092</td></tr><tr><td style=\"text-align:center\">19</td><td style=\"text-align:center\">]76.00 , 80.00]</td><td style=\"text-align:center\">81</td><td style=\"text-align:center\">79.03555</td></tr><tr><td style=\"text-align:center\">20</td><td style=\"text-align:center\">]80.00 , 84.00]</td><td style=\"text-align:center\">65</td><td style=\"text-align:center\">62.60388</td></tr><tr><td style=\"text-align:center\">21</td><td style=\"text-align:center\">]84.00 , 88.00]</td><td style=\"text-align:center\">49</td><td style=\"text-align:center\">46.26899</td></tr><tr><td style=\"text-align:center\">22</td><td style=\"text-align:center\">]88.00 , 92.00]</td><td style=\"text-align:center\">38</td><td style=\"text-align:center\">31.90717</td></tr><tr><td style=\"text-align:center\">23</td><td style=\"text-align:center\">]92.00 , 96.00]</td><td style=\"text-align:center\">19</td><td style=\"text-align:center\">20.53033</td></tr><tr><td style=\"text-align:center\">24</td><td style=\"text-align:center\">]96.00 , 100.00]</td><td style=\"text-align:center\">22</td><td style=\"text-align:center\">25.94940</td></tr></table>"
      ],
      "text/plain": [
       "<IPython.core.display.HTML object>"
      ]
     },
     "execution_count": 27,
     "metadata": {},
     "output_type": "execute_result"
    }
   ],
   "source": [
    "#Adding the expected frequencies to the table\n",
    "from IPython.core.display import HTML\n",
    "table = f'<table style=\"border:1px solid black;border-color: blue;width:80%;text-align:center\"><tr><th style=\"text-align:center\">Bin</th><th style=\"text-align:center\">Range</th><th style=\"text-align:center\">Frequency</th><th style=\"text-align:center\">Epected Frequency</th></tr>'\n",
    "for i in range(len(hist)):\n",
    "    table += f'<tr><td style=\"text-align:center\">{i}</td><td style=\"text-align:center\">]{bin_edges[i]:.2f} , {bin_edges[i+1]:.2f}]</td><td style=\"text-align:center\">{hist[i]}</td><td style=\"text-align:center\">{expected_frequencies[i]:.5f}</td></tr>'\n",
    "table += f'</table>'\n",
    "HTML(table)"
   ]
  },
  {
   "cell_type": "code",
   "execution_count": 28,
   "id": "22e07a59",
   "metadata": {},
   "outputs": [
    {
     "name": "stdout",
     "output_type": "stream",
     "text": [
      "chi squared statistic : 68.875001414206423\n"
     ]
    }
   ],
   "source": [
    "#Calculating the test statistic\n",
    "chi_squared_statistic = chi_squared_godness_of_fit_test.chi_squared_statistic(expected_frequencies)\n",
    "print('chi squared statistic : %.15f'%chi_squared_statistic)"
   ]
  },
  {
   "cell_type": "code",
   "execution_count": 29,
   "id": "903566f6",
   "metadata": {},
   "outputs": [
    {
     "name": "stdout",
     "output_type": "stream",
     "text": [
      "The probability of getting 68.875001414206423 or more extreme value is : 0.0000009931\n"
     ]
    }
   ],
   "source": [
    "#Calculating the P-value\n",
    "p_value = chi_squared_godness_of_fit_test.p_value(chi_squared_statistic)\n",
    "print('The probability of getting %.15f or more extreme value is : %.10f'%(chi_squared_statistic,p_value))"
   ]
  },
  {
   "cell_type": "markdown",
   "id": "f308a158",
   "metadata": {},
   "source": [
    "<h3 style='color:red'> p-value < 0.05 . Our sample suggest that the data don't follow a normal distribution </h3>"
   ]
  },
  {
   "cell_type": "markdown",
   "id": "938801df",
   "metadata": {},
   "source": [
    "<h1 style=\"color:blue\">TWO SAMPLE T-TEST </h1>"
   ]
  },
  {
   "cell_type": "markdown",
   "id": "0acadd0e",
   "metadata": {},
   "source": [
    "<b>Even though the distribution isn't normal , since the sample size is large enough we're still able to perform the test</b>"
   ]
  },
  {
   "cell_type": "markdown",
   "id": "30bbdbd1",
   "metadata": {},
   "source": [
    "<b>Hypothesis1 : There is no significant difference in the mean score of students who have taken test preparation and those \n",
    "students who have not taken any test preparation</b>"
   ]
  },
  {
   "cell_type": "markdown",
   "id": "ab01be6d",
   "metadata": {},
   "source": [
    "<b>Let's say :<br>\n",
    "    group A : contain students who have taken the test performance <br>\n",
    "    group B : contain students who have not taken the test performance </b>"
   ]
  },
  {
   "cell_type": "markdown",
   "id": "7ade7ac4",
   "metadata": {},
   "source": [
    "<h2 style=\"color:green\">WELCH'S T-TEST </h2>"
   ]
  },
  {
   "cell_type": "markdown",
   "id": "88207f22",
   "metadata": {},
   "source": [
    "<b>It is used when the population variances are not assumed to be equal. </b>"
   ]
  },
  {
   "cell_type": "code",
   "execution_count": 30,
   "id": "720e40fd",
   "metadata": {},
   "outputs": [],
   "source": [
    "groupA = df[df['test preparation course']=='completed'][['test preparation course','math score']]"
   ]
  },
  {
   "cell_type": "code",
   "execution_count": 31,
   "id": "c2ae45bb",
   "metadata": {},
   "outputs": [],
   "source": [
    "groupB = df[df['test preparation course']=='none'][['test preparation course','math score']]"
   ]
  },
  {
   "cell_type": "code",
   "execution_count": 32,
   "id": "591fadff",
   "metadata": {},
   "outputs": [
    {
     "data": {
      "image/png": "[encoded data removed]",
      "text/plain": [
       "<Figure size 1296x360 with 2 Axes>"
      ]
     },
     "metadata": {
      "needs_background": "light"
     },
     "output_type": "display_data"
    }
   ],
   "source": [
    "plt.figure(figsize=(18,5))\n",
    "plt.subplot(1,2,1)\n",
    "sns.histplot(groupA['math score'],kde=True,bins='auto')\n",
    "plt.figtext(0.38,0.6,groupA.describe()['math score'].to_string())\n",
    "plt.xlim(0,110)\n",
    "plt.ylim(0,100)\n",
    "\n",
    "plt.subplot(1,2,2)\n",
    "sns.histplot(groupB['math score'],kde=True,bins='auto')\n",
    "plt.figtext(0.81,0.6,groupB.describe()['math score'].to_string())\n",
    "plt.xlim(0,110)\n",
    "plt.ylim(0,100)\n",
    "\n",
    "plt.show()"
   ]
  },
  {
   "cell_type": "code",
   "execution_count": 33,
   "id": "a0125624",
   "metadata": {},
   "outputs": [],
   "source": [
    "#Importing the class that I created to perform two sample t-test .\n",
    "from t_test import two_sample_t_test"
   ]
  },
  {
   "cell_type": "code",
   "execution_count": 34,
   "id": "bfcc2139",
   "metadata": {},
   "outputs": [],
   "source": [
    "#Creating an object\n",
    "#Notice that variances are set to be inequal\n",
    "t_test_result = two_sample_t_test(groupA['math score'],groupB['math score'],equal_variance=False)"
   ]
  },
  {
   "cell_type": "code",
   "execution_count": 35,
   "id": "efd4ae11",
   "metadata": {},
   "outputs": [
    {
     "name": "stdout",
     "output_type": "stream",
     "text": [
      "the t statistic is : 5.7869831579\n"
     ]
    }
   ],
   "source": [
    "#Calculating the statistic\n",
    "t_stat = t_test_result.t_test()[0]\n",
    "print('the t statistic is : %.10f'%t_stat)"
   ]
  },
  {
   "cell_type": "code",
   "execution_count": 36,
   "id": "fd418027",
   "metadata": {},
   "outputs": [
    {
     "name": "stdout",
     "output_type": "stream",
     "text": [
      "the p_value is : 0.000000010425617\n"
     ]
    }
   ],
   "source": [
    "#Calculating the p-value\n",
    "p_value = t_test_result.t_test()[1]\n",
    "print('the p_value is : %.15f'%p_value)"
   ]
  },
  {
   "cell_type": "markdown",
   "id": "c4493848",
   "metadata": {},
   "source": [
    "<h2 style=\"color:green\">STANDARD TWO SAMPLE T-TEST </h2>"
   ]
  },
  {
   "cell_type": "markdown",
   "id": "d0526bb6",
   "metadata": {},
   "source": [
    "<b>It is used when the population variances are assumed to be equal. </b>"
   ]
  },
  {
   "cell_type": "code",
   "execution_count": 37,
   "id": "71ed027a",
   "metadata": {},
   "outputs": [],
   "source": [
    "#Creating an object\n",
    "#Equal variances \n",
    "standard_t_test_result = two_sample_t_test(groupA['math score'],groupB['math score'],equal_variance=True)"
   ]
  },
  {
   "cell_type": "code",
   "execution_count": 38,
   "id": "d13458a1",
   "metadata": {},
   "outputs": [
    {
     "data": {
      "text/plain": [
       "(5.7046164173491025, 1.53591346071473e-08)"
      ]
     },
     "execution_count": 38,
     "metadata": {},
     "output_type": "execute_result"
    }
   ],
   "source": [
    "#the t-statistic and corresponding p-value\n",
    "standard_t_test_result.t_test()"
   ]
  },
  {
   "cell_type": "code",
   "execution_count": 39,
   "id": "16bf3cc1",
   "metadata": {},
   "outputs": [
    {
     "name": "stdout",
     "output_type": "stream",
     "text": [
      "the t statistic is : 5.7046164173\n"
     ]
    }
   ],
   "source": [
    "t_stat1 = standard_t_test_result.t_test()[0]\n",
    "print('the t statistic is : %.10f'%t_stat1)"
   ]
  },
  {
   "cell_type": "code",
   "execution_count": 40,
   "id": "8c3ead6e",
   "metadata": {},
   "outputs": [
    {
     "name": "stdout",
     "output_type": "stream",
     "text": [
      "the p_value is : 0.000000015359135\n"
     ]
    }
   ],
   "source": [
    "p_value1 = standard_t_test_result.t_test()[1]\n",
    "print('the p_value is : %.15f'%p_value1)"
   ]
  },
  {
   "cell_type": "markdown",
   "id": "92e59ca8",
   "metadata": {},
   "source": [
    "<h3 style=\"color:red\">P_value lower than 0.05 , we conclude that our sample data support the claim that the population means \n",
    "are different.Especially groupA's mean id greater than groupB's mean</h3>"
   ]
  },
  {
   "cell_type": "markdown",
   "id": "ff0ad19e",
   "metadata": {},
   "source": [
    "<h2 style=\"color:blue\">Chi-Square Test of Independence</h2>"
   ]
  },
  {
   "cell_type": "markdown",
   "id": "ac2591b6",
   "metadata": {},
   "source": [
    "<b>Hypothesis 2: There is no relation between the gender of a student and their corresponding academic performance.</b>"
   ]
  },
  {
   "cell_type": "markdown",
   "id": "01b7091c",
   "metadata": {},
   "source": [
    "<b>H0 : There is no relationship between gender of students and their corresponding academic performance.(independent)<br>\n",
    "H1 : There is a relationship between gender of students and their corresponding academic performance.(dependent)</b>"
   ]
  },
  {
   "cell_type": "code",
   "execution_count": 41,
   "id": "1387a2e5",
   "metadata": {},
   "outputs": [],
   "source": [
    "df1 = df[['gender','math score','reading score','writing score']]"
   ]
  },
  {
   "cell_type": "code",
   "execution_count": 42,
   "id": "c8962dd0",
   "metadata": {},
   "outputs": [
    {
     "name": "stderr",
     "output_type": "stream",
     "text": [
      "C:\\Users\\PC\\AppData\\Local\\Temp/ipykernel_15128/3302892979.py:2: SettingWithCopyWarning: \n",
      "A value is trying to be set on a copy of a slice from a DataFrame.\n",
      "Try using .loc[row_indexer,col_indexer] = value instead\n",
      "\n",
      "See the caveats in the documentation: https://pandas.pydata.org/pandas-docs/stable/user_guide/indexing.html#returning-a-view-versus-a-copy\n",
      "  df1['mean score'] = (df1['math score']+df1['reading score']+df1['writing score'])/3\n"
     ]
    }
   ],
   "source": [
    "#Creating a new column that contains the mean score \n",
    "df1['mean score'] = (df1['math score']+df1['reading score']+df1['writing score'])/3"
   ]
  },
  {
   "cell_type": "code",
   "execution_count": 43,
   "id": "a38fed1e",
   "metadata": {},
   "outputs": [
    {
     "name": "stderr",
     "output_type": "stream",
     "text": [
      "C:\\Users\\PC\\AppData\\Local\\Temp/ipykernel_15128/1579609980.py:2: SettingWithCopyWarning: \n",
      "A value is trying to be set on a copy of a slice from a DataFrame.\n",
      "Try using .loc[row_indexer,col_indexer] = value instead\n",
      "\n",
      "See the caveats in the documentation: https://pandas.pydata.org/pandas-docs/stable/user_guide/indexing.html#returning-a-view-versus-a-copy\n",
      "  df1[\"result\"] = np.where(df1[\"mean score\"] >= 40, \"acceptable\", \"not acceptable\")\n"
     ]
    }
   ],
   "source": [
    "#Creating a new column, a categorical variable indicating whether the student succeeded or not.\n",
    "df1[\"result\"] = np.where(df1[\"mean score\"] >= 40, \"acceptable\", \"not acceptable\")\n"
   ]
  },
  {
   "cell_type": "code",
   "execution_count": 44,
   "id": "34378829",
   "metadata": {},
   "outputs": [
    {
     "data": {
      "text/html": [
       "<div>\n",
       "<style scoped>\n",
       "    .dataframe tbody tr th:only-of-type {\n",
       "        vertical-align: middle;\n",
       "    }\n",
       "\n",
       "    .dataframe tbody tr th {\n",
       "        vertical-align: top;\n",
       "    }\n",
       "\n",
       "    .dataframe thead th {\n",
       "        text-align: right;\n",
       "    }\n",
       "</style>\n",
       "<table border=\"1\" class=\"dataframe\">\n",
       "  <thead>\n",
       "    <tr style=\"text-align: right;\">\n",
       "      <th></th>\n",
       "      <th>gender</th>\n",
       "      <th>math score</th>\n",
       "      <th>reading score</th>\n",
       "      <th>writing score</th>\n",
       "      <th>mean score</th>\n",
       "      <th>result</th>\n",
       "    </tr>\n",
       "  </thead>\n",
       "  <tbody>\n",
       "    <tr>\n",
       "      <th>0</th>\n",
       "      <td>female</td>\n",
       "      <td>72</td>\n",
       "      <td>72</td>\n",
       "      <td>74</td>\n",
       "      <td>72.666667</td>\n",
       "      <td>acceptable</td>\n",
       "    </tr>\n",
       "    <tr>\n",
       "      <th>1</th>\n",
       "      <td>female</td>\n",
       "      <td>69</td>\n",
       "      <td>90</td>\n",
       "      <td>88</td>\n",
       "      <td>82.333333</td>\n",
       "      <td>acceptable</td>\n",
       "    </tr>\n",
       "    <tr>\n",
       "      <th>2</th>\n",
       "      <td>female</td>\n",
       "      <td>90</td>\n",
       "      <td>95</td>\n",
       "      <td>93</td>\n",
       "      <td>92.666667</td>\n",
       "      <td>acceptable</td>\n",
       "    </tr>\n",
       "    <tr>\n",
       "      <th>3</th>\n",
       "      <td>male</td>\n",
       "      <td>47</td>\n",
       "      <td>57</td>\n",
       "      <td>44</td>\n",
       "      <td>49.333333</td>\n",
       "      <td>acceptable</td>\n",
       "    </tr>\n",
       "    <tr>\n",
       "      <th>4</th>\n",
       "      <td>male</td>\n",
       "      <td>76</td>\n",
       "      <td>78</td>\n",
       "      <td>75</td>\n",
       "      <td>76.333333</td>\n",
       "      <td>acceptable</td>\n",
       "    </tr>\n",
       "    <tr>\n",
       "      <th>...</th>\n",
       "      <td>...</td>\n",
       "      <td>...</td>\n",
       "      <td>...</td>\n",
       "      <td>...</td>\n",
       "      <td>...</td>\n",
       "      <td>...</td>\n",
       "    </tr>\n",
       "    <tr>\n",
       "      <th>995</th>\n",
       "      <td>female</td>\n",
       "      <td>88</td>\n",
       "      <td>99</td>\n",
       "      <td>95</td>\n",
       "      <td>94.000000</td>\n",
       "      <td>acceptable</td>\n",
       "    </tr>\n",
       "    <tr>\n",
       "      <th>996</th>\n",
       "      <td>male</td>\n",
       "      <td>62</td>\n",
       "      <td>55</td>\n",
       "      <td>55</td>\n",
       "      <td>57.333333</td>\n",
       "      <td>acceptable</td>\n",
       "    </tr>\n",
       "    <tr>\n",
       "      <th>997</th>\n",
       "      <td>female</td>\n",
       "      <td>59</td>\n",
       "      <td>71</td>\n",
       "      <td>65</td>\n",
       "      <td>65.000000</td>\n",
       "      <td>acceptable</td>\n",
       "    </tr>\n",
       "    <tr>\n",
       "      <th>998</th>\n",
       "      <td>female</td>\n",
       "      <td>68</td>\n",
       "      <td>78</td>\n",
       "      <td>77</td>\n",
       "      <td>74.333333</td>\n",
       "      <td>acceptable</td>\n",
       "    </tr>\n",
       "    <tr>\n",
       "      <th>999</th>\n",
       "      <td>female</td>\n",
       "      <td>77</td>\n",
       "      <td>86</td>\n",
       "      <td>86</td>\n",
       "      <td>83.000000</td>\n",
       "      <td>acceptable</td>\n",
       "    </tr>\n",
       "  </tbody>\n",
       "</table>\n",
       "<p>1000 rows × 6 columns</p>\n",
       "</div>"
      ],
      "text/plain": [
       "     gender  math score  reading score  writing score  mean score      result\n",
       "0    female          72             72             74   72.666667  acceptable\n",
       "1    female          69             90             88   82.333333  acceptable\n",
       "2    female          90             95             93   92.666667  acceptable\n",
       "3      male          47             57             44   49.333333  acceptable\n",
       "4      male          76             78             75   76.333333  acceptable\n",
       "..      ...         ...            ...            ...         ...         ...\n",
       "995  female          88             99             95   94.000000  acceptable\n",
       "996    male          62             55             55   57.333333  acceptable\n",
       "997  female          59             71             65   65.000000  acceptable\n",
       "998  female          68             78             77   74.333333  acceptable\n",
       "999  female          77             86             86   83.000000  acceptable\n",
       "\n",
       "[1000 rows x 6 columns]"
      ]
     },
     "execution_count": 44,
     "metadata": {},
     "output_type": "execute_result"
    }
   ],
   "source": [
    "df1"
   ]
  },
  {
   "cell_type": "code",
   "execution_count": 45,
   "id": "c8a88063",
   "metadata": {},
   "outputs": [],
   "source": [
    "#importing the class that I created to perform test of independence\n",
    "from test_of_independence import chi_square_test"
   ]
  },
  {
   "cell_type": "code",
   "execution_count": 46,
   "id": "ab254639",
   "metadata": {},
   "outputs": [],
   "source": [
    "#Creating an object\n",
    "test_of_independence = chi_square_test(df1['gender'],df1['result'])"
   ]
  },
  {
   "cell_type": "code",
   "execution_count": 47,
   "id": "8f00c982",
   "metadata": {},
   "outputs": [
    {
     "data": {
      "text/html": [
       "<div>\n",
       "<style scoped>\n",
       "    .dataframe tbody tr th:only-of-type {\n",
       "        vertical-align: middle;\n",
       "    }\n",
       "\n",
       "    .dataframe tbody tr th {\n",
       "        vertical-align: top;\n",
       "    }\n",
       "\n",
       "    .dataframe thead th {\n",
       "        text-align: right;\n",
       "    }\n",
       "</style>\n",
       "<table border=\"1\" class=\"dataframe\">\n",
       "  <thead>\n",
       "    <tr style=\"text-align: right;\">\n",
       "      <th>result</th>\n",
       "      <th>acceptable</th>\n",
       "      <th>not acceptable</th>\n",
       "      <th>All</th>\n",
       "    </tr>\n",
       "    <tr>\n",
       "      <th>gender</th>\n",
       "      <th></th>\n",
       "      <th></th>\n",
       "      <th></th>\n",
       "    </tr>\n",
       "  </thead>\n",
       "  <tbody>\n",
       "    <tr>\n",
       "      <th>female</th>\n",
       "      <td>502</td>\n",
       "      <td>16</td>\n",
       "      <td>518</td>\n",
       "    </tr>\n",
       "    <tr>\n",
       "      <th>male</th>\n",
       "      <td>468</td>\n",
       "      <td>14</td>\n",
       "      <td>482</td>\n",
       "    </tr>\n",
       "    <tr>\n",
       "      <th>All</th>\n",
       "      <td>970</td>\n",
       "      <td>30</td>\n",
       "      <td>1000</td>\n",
       "    </tr>\n",
       "  </tbody>\n",
       "</table>\n",
       "</div>"
      ],
      "text/plain": [
       "result  acceptable  not acceptable   All\n",
       "gender                                  \n",
       "female         502              16   518\n",
       "male           468              14   482\n",
       "All            970              30  1000"
      ]
     },
     "execution_count": 47,
     "metadata": {},
     "output_type": "execute_result"
    }
   ],
   "source": [
    "#contingency table\n",
    "test_of_independence.contingency_table()"
   ]
  },
  {
   "cell_type": "code",
   "execution_count": 48,
   "id": "44136c37",
   "metadata": {},
   "outputs": [
    {
     "data": {
      "text/plain": [
       "[502, 16, 468, 14]"
      ]
     },
     "execution_count": 48,
     "metadata": {},
     "output_type": "execute_result"
    }
   ],
   "source": [
    "#Extracting the observed values\n",
    "test_of_independence.observed_values()"
   ]
  },
  {
   "cell_type": "code",
   "execution_count": 49,
   "id": "e75efe4b",
   "metadata": {},
   "outputs": [
    {
     "data": {
      "text/plain": [
       "[502.46, 15.54, 467.54, 14.46]"
      ]
     },
     "execution_count": 49,
     "metadata": {},
     "output_type": "execute_result"
    }
   ],
   "source": [
    "#Calculating the expected values\n",
    "test_of_independence.expected_values()"
   ]
  },
  {
   "cell_type": "code",
   "execution_count": 50,
   "id": "3c112f27",
   "metadata": {},
   "outputs": [
    {
     "data": {
      "text/plain": [
       "0.029123654909683938"
      ]
     },
     "execution_count": 50,
     "metadata": {},
     "output_type": "execute_result"
    }
   ],
   "source": [
    "#Calculating the statistic of the test\n",
    "test_of_independence.chi_squared_value()"
   ]
  },
  {
   "cell_type": "code",
   "execution_count": 51,
   "id": "6ade8810",
   "metadata": {},
   "outputs": [],
   "source": [
    "#degree of freedom\n",
    "degree_of_freedom = (len(df1['result'].value_counts())-1)*(len(df1['gender'].value_counts())-1)"
   ]
  },
  {
   "cell_type": "code",
   "execution_count": 52,
   "id": "d22ac6b5",
   "metadata": {},
   "outputs": [
    {
     "data": {
      "text/plain": [
       "2.705543454095404"
      ]
     },
     "execution_count": 52,
     "metadata": {},
     "output_type": "execute_result"
    }
   ],
   "source": [
    "#Critical value\n",
    "stats.chi2.ppf(0.9,degree_of_freedom)"
   ]
  },
  {
   "cell_type": "markdown",
   "id": "ed7aa534",
   "metadata": {},
   "source": [
    "<h3 style=\"color:red\">Our critical value is much larger than the value calculated . We fail to reject our null hypothesis that there is no relationship between gender and overall performance</h3>"
   ]
  },
  {
   "cell_type": "markdown",
   "id": "4ee49ed1",
   "metadata": {},
   "source": [
    "<h1 style=\"color : blue\">CONCLUSIONS</h1>"
   ]
  },
  {
   "cell_type": "markdown",
   "id": "57b37b04",
   "metadata": {},
   "source": [
    "<b>\n",
    "   <ul>\n",
    "       <li>There is a difference in the mean score of students who have taken test preparation and those students who have not taken any test preparation</li>\n",
    "       <li>There is no relationship between gender and overall performance</li>\n",
    "    </ul>\n",
    "\n",
    "</b>"
   ]
  },
  {
   "cell_type": "code",
   "execution_count": null,
   "id": "156dcc79",
   "metadata": {},
   "outputs": [],
   "source": []
  }
 ],
 "metadata": {
  "kernelspec": {
   "display_name": "Python 3 (ipykernel)",
   "language": "python",
   "name": "python3"
  },
  "language_info": {
   "codemirror_mode": {
    "name": "ipython",
    "version": 3
   },
   "file_extension": ".py",
   "mimetype": "text/x-python",
   "name": "python",
   "nbconvert_exporter": "python",
   "pygments_lexer": "ipython3",
   "version": "3.9.7"
  }
 },
 "nbformat": 4,
 "nbformat_minor": 5
}
